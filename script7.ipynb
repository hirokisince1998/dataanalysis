{
  "nbformat": 4,
  "nbformat_minor": 0,
  "metadata": {
    "colab": {
      "name": "script7.ipynb",
      "provenance": []
    },
    "kernelspec": {
      "name": "ir",
      "display_name": "R"
    }
  },
  "cells": [
    {
      "cell_type": "code",
      "metadata": {
        "id": "mnclTyesUZUC",
        "colab_type": "code",
        "colab": {}
      },
      "source": [
        "#rstanがインストールされていないならインストールする\n",
        "x<-installed.packages()\n",
        "if(any(x[,1]== 'rstan') == FALSE){\n",
        "    system(\"add-apt-repository -y ppa:marutter/rrutter3.5\")\n",
        "    system(\"add-apt-repository -y ppa:marutter/c2d4u3.5\") \n",
        "    system(\"apt-get update\")\n",
        "    system(\"apt install -y r-cran-rstan\")\n",
        "}"
      ],
      "execution_count": 0,
      "outputs": []
    },
    {
      "cell_type": "code",
      "metadata": {
        "id": "5Q6XUAOkUeNi",
        "colab_type": "code",
        "colab": {}
      },
      "source": [
        "library(rstan)\n",
        "gyudon <- c(76.5,83.9,87.9,70.8,84.6,85.1,79.6,79.8,79.7,78.0)"
      ],
      "execution_count": 0,
      "outputs": []
    },
    {
      "cell_type": "code",
      "metadata": {
        "id": "9qNLrn2Y5XVe",
        "colab_type": "code",
        "colab": {}
      },
      "source": [
        "# ここでstanのコードをstancodeという変数に入れます\n",
        "# 以下は 1group.stan の例\n",
        "stancode <- '\n",
        "data {\n",
        "  int n;     // データ数\n",
        "  real x[n]; // データ\n",
        "}\n",
        "parameters {\n",
        "  real mu;\n",
        "  real<lower=0> sigma;\n",
        "}\n",
        "model {\n",
        "  mu ~ uniform(0,1000); // 一様分布\n",
        "  sigma ~ uniform(0,100);\n",
        "  x ~ normal(mu,sigma); // 正規分布\n",
        "}\n",
        "'"
      ],
      "execution_count": 0,
      "outputs": []
    },
    {
      "cell_type": "code",
      "metadata": {
        "id": "Qc4jRP8MYRbN",
        "colab_type": "code",
        "colab": {}
      },
      "source": [
        "fit <- stan(model_code = stancode,\n",
        "            data=list(n=length(gyudon),\n",
        "                      x=gyudon),\n",
        "            iter=21000,\n",
        "            warmup=1000,\n",
        "            chains=5)\n"
      ],
      "execution_count": 0,
      "outputs": []
    },
    {
      "cell_type": "code",
      "metadata": {
        "id": "if2en9JQ6f76",
        "colab_type": "code",
        "colab": {}
      },
      "source": [
        "# 乱数列の視覚的評価\n",
        "stan_trace(fit)"
      ],
      "execution_count": 0,
      "outputs": []
    },
    {
      "cell_type": "code",
      "metadata": {
        "id": "KYCKOvOeDRNR",
        "colab_type": "code",
        "colab": {}
      },
      "source": [
        "# 発生させたパラメータの散布図\n",
        "stan_scat(fit,pars=c(\"mu\",\"sigma\"),size=0.3,alpha=0.1) +\n",
        "  xlim(70,90) +\n",
        "  ylim(2,16)"
      ],
      "execution_count": 0,
      "outputs": []
    },
    {
      "cell_type": "code",
      "metadata": {
        "id": "ICWnUOzD68zV",
        "colab_type": "code",
        "colab": {}
      },
      "source": [
        "# パラメータの事後分布（推測結果）\n",
        "print(fit)\n",
        "print(fit,probs=c(0.025,0.05,0.95,0.975))"
      ],
      "execution_count": 0,
      "outputs": []
    },
    {
      "cell_type": "code",
      "metadata": {
        "id": "7p5WrGNL7EIJ",
        "colab_type": "code",
        "colab": {}
      },
      "source": [
        "# 発生させたパラメータのヒストグラム\n",
        "stan_hist(fit)"
      ],
      "execution_count": 0,
      "outputs": []
    }
  ]
}