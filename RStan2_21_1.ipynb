{
  "nbformat": 4,
  "nbformat_minor": 0,
  "metadata": {
    "colab": {
      "name": "RStan2-21-1.ipynb",
      "provenance": []
    },
    "kernelspec": {
      "name": "ir",
      "display_name": "R"
    }
  },
  "cells": [
    {
      "cell_type": "markdown",
      "metadata": {
        "id": "54Q9OmyAtHFq",
        "colab_type": "text"
      },
      "source": [
        "このノートブックは、これまでの方法で Google Colaboratory に rstan をインストールできない状態（7/11現在）のための非常用です。下のセルを実行すると rstan がインストールされますが、非常に時間がかかります（約15分）！！"
      ]
    },
    {
      "cell_type": "code",
      "metadata": {
        "id": "mnclTyesUZUC",
        "colab_type": "code",
        "colab": {
          "base_uri": "https://localhost:8080/",
          "height": 190
        },
        "outputId": "95a369a3-0cf9-4a7e-c1b0-8dadcf289caa"
      },
      "source": [
        "#rstanがインストールされていないならインストールする\n",
        "x<-installed.packages()\n",
        "if(any(x[,1]== 'rstan') == FALSE){\n",
        "    system(\"add-apt-repository -y ppa:marutter/rrutter3.5\")\n",
        "    system(\"add-apt-repository -y ppa:marutter/c2d4u3.5\") \n",
        "    system(\"apt-get update\")\n",
        "    system(\"apt-get install -y libv8-dev\")\n",
        "    install.packages(\"V8\")\n",
        "    install.packages(\"rstan\")\n",
        "}"
      ],
      "execution_count": null,
      "outputs": [
        {
          "output_type": "stream",
          "text": [
            "Installing package into ‘/usr/local/lib/R/site-library’\n",
            "(as ‘lib’ is unspecified)\n",
            "\n",
            "Installing package into ‘/usr/local/lib/R/site-library’\n",
            "(as ‘lib’ is unspecified)\n",
            "\n",
            "also installing the dependencies ‘checkmate’, ‘matrixStats’, ‘StanHeaders’, ‘inline’, ‘gridExtra’, ‘RcppParallel’, ‘loo’, ‘RcppEigen’\n",
            "\n",
            "\n"
          ],
          "name": "stderr"
        }
      ]
    },
    {
      "cell_type": "markdown",
      "metadata": {
        "id": "5Po-8GvrvGsp",
        "colab_type": "text"
      },
      "source": [
        "# インチキコイン問題"
      ]
    },
    {
      "cell_type": "code",
      "metadata": {
        "id": "5Q6XUAOkUeNi",
        "colab_type": "code",
        "colab": {
          "base_uri": "https://localhost:8080/",
          "height": 1000
        },
        "outputId": "aa6e413b-6160-4b67-bfcc-84ad0391ef24"
      },
      "source": [
        "library(rstan)\n",
        "x <- c(1,1,1,1,1,1,0,0,1,1)\n",
        "\n",
        "# bernoulli.stan\n",
        "stancode <- '\n",
        "data {\n",
        "  int n;\n",
        "  int x[n];\n",
        "}\n",
        "\n",
        "parameters {\n",
        "  real<lower=0,upper=1> p;\n",
        "}\n",
        "\n",
        "model {\n",
        "  x ~ bernoulli(p);\n",
        "}\n",
        "'\n",
        "fit <- stan(model_code = stancode,\n",
        "            data=list(n=10,x=x),\n",
        "            iter=21000,warmup=1000,chains=5)"
      ],
      "execution_count": null,
      "outputs": [
        {
          "output_type": "stream",
          "text": [
            "Loading required package: StanHeaders\n",
            "\n",
            "Loading required package: ggplot2\n",
            "\n",
            "rstan (Version 2.21.1, GitRev: 2e1f913d3ca3)\n",
            "\n",
            "For execution on a local, multicore CPU with excess RAM we recommend calling\n",
            "options(mc.cores = parallel::detectCores()).\n",
            "To avoid recompilation of unchanged Stan programs, we recommend calling\n",
            "rstan_options(auto_write = TRUE)\n",
            "\n"
          ],
          "name": "stderr"
        },
        {
          "output_type": "stream",
          "text": [
            "\n",
            "SAMPLING FOR MODEL '40a62a85a1938c28a16209fad4ed7a30' NOW (CHAIN 1).\n",
            "Chain 1: \n",
            "Chain 1: Gradient evaluation took 1.1e-05 seconds\n",
            "Chain 1: 1000 transitions using 10 leapfrog steps per transition would take 0.11 seconds.\n",
            "Chain 1: Adjust your expectations accordingly!\n",
            "Chain 1: \n",
            "Chain 1: \n",
            "Chain 1: Iteration:     1 / 21000 [  0%]  (Warmup)\n",
            "Chain 1: Iteration:  1001 / 21000 [  4%]  (Sampling)\n",
            "Chain 1: Iteration:  3100 / 21000 [ 14%]  (Sampling)\n",
            "Chain 1: Iteration:  5200 / 21000 [ 24%]  (Sampling)\n",
            "Chain 1: Iteration:  7300 / 21000 [ 34%]  (Sampling)\n",
            "Chain 1: Iteration:  9400 / 21000 [ 44%]  (Sampling)\n",
            "Chain 1: Iteration: 11500 / 21000 [ 54%]  (Sampling)\n",
            "Chain 1: Iteration: 13600 / 21000 [ 64%]  (Sampling)\n",
            "Chain 1: Iteration: 15700 / 21000 [ 74%]  (Sampling)\n",
            "Chain 1: Iteration: 17800 / 21000 [ 84%]  (Sampling)\n",
            "Chain 1: Iteration: 19900 / 21000 [ 94%]  (Sampling)\n",
            "Chain 1: Iteration: 21000 / 21000 [100%]  (Sampling)\n",
            "Chain 1: \n",
            "Chain 1:  Elapsed Time: 0.007558 seconds (Warm-up)\n",
            "Chain 1:                0.135229 seconds (Sampling)\n",
            "Chain 1:                0.142787 seconds (Total)\n",
            "Chain 1: \n",
            "\n",
            "SAMPLING FOR MODEL '40a62a85a1938c28a16209fad4ed7a30' NOW (CHAIN 2).\n",
            "Chain 2: \n",
            "Chain 2: Gradient evaluation took 5e-06 seconds\n",
            "Chain 2: 1000 transitions using 10 leapfrog steps per transition would take 0.05 seconds.\n",
            "Chain 2: Adjust your expectations accordingly!\n",
            "Chain 2: \n",
            "Chain 2: \n",
            "Chain 2: Iteration:     1 / 21000 [  0%]  (Warmup)\n",
            "Chain 2: Iteration:  1001 / 21000 [  4%]  (Sampling)\n",
            "Chain 2: Iteration:  3100 / 21000 [ 14%]  (Sampling)\n",
            "Chain 2: Iteration:  5200 / 21000 [ 24%]  (Sampling)\n",
            "Chain 2: Iteration:  7300 / 21000 [ 34%]  (Sampling)\n",
            "Chain 2: Iteration:  9400 / 21000 [ 44%]  (Sampling)\n",
            "Chain 2: Iteration: 11500 / 21000 [ 54%]  (Sampling)\n",
            "Chain 2: Iteration: 13600 / 21000 [ 64%]  (Sampling)\n",
            "Chain 2: Iteration: 15700 / 21000 [ 74%]  (Sampling)\n",
            "Chain 2: Iteration: 17800 / 21000 [ 84%]  (Sampling)\n",
            "Chain 2: Iteration: 19900 / 21000 [ 94%]  (Sampling)\n",
            "Chain 2: Iteration: 21000 / 21000 [100%]  (Sampling)\n",
            "Chain 2: \n",
            "Chain 2:  Elapsed Time: 0.00762 seconds (Warm-up)\n",
            "Chain 2:                0.153809 seconds (Sampling)\n",
            "Chain 2:                0.161429 seconds (Total)\n",
            "Chain 2: \n",
            "\n",
            "SAMPLING FOR MODEL '40a62a85a1938c28a16209fad4ed7a30' NOW (CHAIN 3).\n",
            "Chain 3: \n",
            "Chain 3: Gradient evaluation took 7e-06 seconds\n",
            "Chain 3: 1000 transitions using 10 leapfrog steps per transition would take 0.07 seconds.\n",
            "Chain 3: Adjust your expectations accordingly!\n",
            "Chain 3: \n",
            "Chain 3: \n",
            "Chain 3: Iteration:     1 / 21000 [  0%]  (Warmup)\n",
            "Chain 3: Iteration:  1001 / 21000 [  4%]  (Sampling)\n",
            "Chain 3: Iteration:  3100 / 21000 [ 14%]  (Sampling)\n",
            "Chain 3: Iteration:  5200 / 21000 [ 24%]  (Sampling)\n",
            "Chain 3: Iteration:  7300 / 21000 [ 34%]  (Sampling)\n",
            "Chain 3: Iteration:  9400 / 21000 [ 44%]  (Sampling)\n",
            "Chain 3: Iteration: 11500 / 21000 [ 54%]  (Sampling)\n",
            "Chain 3: Iteration: 13600 / 21000 [ 64%]  (Sampling)\n",
            "Chain 3: Iteration: 15700 / 21000 [ 74%]  (Sampling)\n",
            "Chain 3: Iteration: 17800 / 21000 [ 84%]  (Sampling)\n",
            "Chain 3: Iteration: 19900 / 21000 [ 94%]  (Sampling)\n",
            "Chain 3: Iteration: 21000 / 21000 [100%]  (Sampling)\n",
            "Chain 3: \n",
            "Chain 3:  Elapsed Time: 0.007779 seconds (Warm-up)\n",
            "Chain 3:                0.141134 seconds (Sampling)\n",
            "Chain 3:                0.148913 seconds (Total)\n",
            "Chain 3: \n",
            "\n",
            "SAMPLING FOR MODEL '40a62a85a1938c28a16209fad4ed7a30' NOW (CHAIN 4).\n",
            "Chain 4: \n",
            "Chain 4: Gradient evaluation took 4e-06 seconds\n",
            "Chain 4: 1000 transitions using 10 leapfrog steps per transition would take 0.04 seconds.\n",
            "Chain 4: Adjust your expectations accordingly!\n",
            "Chain 4: \n",
            "Chain 4: \n",
            "Chain 4: Iteration:     1 / 21000 [  0%]  (Warmup)\n",
            "Chain 4: Iteration:  1001 / 21000 [  4%]  (Sampling)\n",
            "Chain 4: Iteration:  3100 / 21000 [ 14%]  (Sampling)\n",
            "Chain 4: Iteration:  5200 / 21000 [ 24%]  (Sampling)\n",
            "Chain 4: Iteration:  7300 / 21000 [ 34%]  (Sampling)\n",
            "Chain 4: Iteration:  9400 / 21000 [ 44%]  (Sampling)\n",
            "Chain 4: Iteration: 11500 / 21000 [ 54%]  (Sampling)\n",
            "Chain 4: Iteration: 13600 / 21000 [ 64%]  (Sampling)\n",
            "Chain 4: Iteration: 15700 / 21000 [ 74%]  (Sampling)\n",
            "Chain 4: Iteration: 17800 / 21000 [ 84%]  (Sampling)\n",
            "Chain 4: Iteration: 19900 / 21000 [ 94%]  (Sampling)\n",
            "Chain 4: Iteration: 21000 / 21000 [100%]  (Sampling)\n",
            "Chain 4: \n",
            "Chain 4:  Elapsed Time: 0.007605 seconds (Warm-up)\n",
            "Chain 4:                0.144627 seconds (Sampling)\n",
            "Chain 4:                0.152232 seconds (Total)\n",
            "Chain 4: \n",
            "\n",
            "SAMPLING FOR MODEL '40a62a85a1938c28a16209fad4ed7a30' NOW (CHAIN 5).\n",
            "Chain 5: \n",
            "Chain 5: Gradient evaluation took 7e-06 seconds\n",
            "Chain 5: 1000 transitions using 10 leapfrog steps per transition would take 0.07 seconds.\n",
            "Chain 5: Adjust your expectations accordingly!\n",
            "Chain 5: \n",
            "Chain 5: \n",
            "Chain 5: Iteration:     1 / 21000 [  0%]  (Warmup)\n",
            "Chain 5: Iteration:  1001 / 21000 [  4%]  (Sampling)\n",
            "Chain 5: Iteration:  3100 / 21000 [ 14%]  (Sampling)\n",
            "Chain 5: Iteration:  5200 / 21000 [ 24%]  (Sampling)\n",
            "Chain 5: Iteration:  7300 / 21000 [ 34%]  (Sampling)\n",
            "Chain 5: Iteration:  9400 / 21000 [ 44%]  (Sampling)\n",
            "Chain 5: Iteration: 11500 / 21000 [ 54%]  (Sampling)\n",
            "Chain 5: Iteration: 13600 / 21000 [ 64%]  (Sampling)\n",
            "Chain 5: Iteration: 15700 / 21000 [ 74%]  (Sampling)\n",
            "Chain 5: Iteration: 17800 / 21000 [ 84%]  (Sampling)\n",
            "Chain 5: Iteration: 19900 / 21000 [ 94%]  (Sampling)\n",
            "Chain 5: Iteration: 21000 / 21000 [100%]  (Sampling)\n",
            "Chain 5: \n",
            "Chain 5:  Elapsed Time: 0.007783 seconds (Warm-up)\n",
            "Chain 5:                0.13598 seconds (Sampling)\n",
            "Chain 5:                0.143763 seconds (Total)\n",
            "Chain 5: \n"
          ],
          "name": "stdout"
        }
      ]
    },
    {
      "cell_type": "code",
      "metadata": {
        "id": "KJMimmoEt2gA",
        "colab_type": "code",
        "colab": {
          "base_uri": "https://localhost:8080/",
          "height": 471
        },
        "outputId": "45bcd77d-c73f-497d-c761-a229362b1a80"
      },
      "source": [
        "stan_hist(fit)"
      ],
      "execution_count": null,
      "outputs": [
        {
          "output_type": "stream",
          "text": [
            "`stat_bin()` using `bins = 30`. Pick better value with `binwidth`.\n",
            "\n"
          ],
          "name": "stderr"
        },
        {
          "output_type": "display_data",
          "data": {
            "image/png": "[encoded data removed]",
            "text/plain": [
              "plot without title"
            ]
          },
          "metadata": {
            "tags": [],
            "image/png": {
              "width": 420,
              "height": 420
            },
            "text/plain": {
              "width": 420,
              "height": 420
            }
          }
        }
      ]
    },
    {
      "cell_type": "code",
      "metadata": {
        "id": "Zw7iWHxwt6CM",
        "colab_type": "code",
        "colab": {
          "base_uri": "https://localhost:8080/",
          "height": 221
        },
        "outputId": "39b861b4-e519-4e79-d829-473f60c687f1"
      },
      "source": [
        "print(fit,probs=c(0.025,0.05,0.95,0.975),digits=3)"
      ],
      "execution_count": null,
      "outputs": [
        {
          "output_type": "stream",
          "text": [
            "Inference for Stan model: 40a62a85a1938c28a16209fad4ed7a30.\n",
            "5 chains, each with iter=21000; warmup=1000; thin=1; \n",
            "post-warmup draws per chain=20000, total post-warmup draws=1e+05.\n",
            "\n",
            "       mean se_mean    sd   2.5%     5%    95%  97.5% n_eff Rhat\n",
            "p     0.749   0.001 0.121  0.481  0.527  0.921  0.939 33317    1\n",
            "lp__ -7.281   0.004 0.757 -9.416 -8.794 -6.750 -6.749 37708    1\n",
            "\n",
            "Samples were drawn using NUTS(diag_e) at Sat Jul 11 02:53:27 2020.\n",
            "For each parameter, n_eff is a crude measure of effective sample size,\n",
            "and Rhat is the potential scale reduction factor on split chains (at \n",
            "convergence, Rhat=1).\n"
          ],
          "name": "stdout"
        }
      ]
    },
    {
      "cell_type": "markdown",
      "metadata": {
        "id": "i3ZnnzUOufSL",
        "colab_type": "text"
      },
      "source": [
        "# 二項分布"
      ]
    },
    {
      "cell_type": "code",
      "metadata": {
        "id": "NAt426Wpt8zv",
        "colab_type": "code",
        "colab": {
          "base_uri": "https://localhost:8080/",
          "height": 437
        },
        "outputId": "0c322123-c028-443d-f777-e47924ec2c58"
      },
      "source": [
        "n <- 10\n",
        "x <- dbinom(0:n,n,0.8)\n",
        "barplot(x,names.arg=0:10,xlab=\"x\",ylab=\"確率\")"
      ],
      "execution_count": null,
      "outputs": [
        {
          "output_type": "display_data",
          "data": {
            "image/png": "[encoded data removed]",
            "text/plain": [
              "plot without title"
            ]
          },
          "metadata": {
            "tags": [],
            "image/png": {
              "width": 420,
              "height": 420
            },
            "text/plain": {
              "width": 420,
              "height": 420
            }
          }
        }
      ]
    },
    {
      "cell_type": "markdown",
      "metadata": {
        "id": "nbsrIfGeuiyp",
        "colab_type": "text"
      },
      "source": [
        "# 蕎麦の選好問題"
      ]
    },
    {
      "cell_type": "code",
      "metadata": {
        "id": "g_o294tRuCO6",
        "colab_type": "code",
        "colab": {
          "base_uri": "https://localhost:8080/",
          "height": 1000
        },
        "outputId": "af0f6dc2-e4a5-4e73-ac41-691b74f6986f"
      },
      "source": [
        "# binomial.stan\n",
        "stancode <- '\n",
        "data {\n",
        "  int x;\n",
        "  int n;\n",
        "}\n",
        "\n",
        "parameters {\n",
        "  real<lower=0,upper=1> p;\n",
        "}\n",
        "\n",
        "model {\n",
        "  p ~ uniform(0,1);\n",
        "  \n",
        "  x ~ binomial(n,p);\n",
        "}\n",
        "\n",
        "generated quantities {\n",
        "  real Odds;\n",
        "  real u_p_gt_05;\n",
        "  real u_Odds_gt_14;\n",
        "  \n",
        "  Odds = p / (1 - p); // 式(6.22)\n",
        "  u_p_gt_05 = p > 0.5; // 式(6.23)\n",
        "  u_Odds_gt_14 = Odds > 1.4; // 式(6.24)\n",
        "}\n",
        "'\n",
        "fit <- stan(model_code = stancode,\n",
        "            data=list(x=220,n=400),\n",
        "            iter=21000,warmup=1000,chains=5)\n",
        "print(fit,probs=c(0.025,0.05,0.95,0.975),digits=3)"
      ],
      "execution_count": null,
      "outputs": [
        {
          "output_type": "stream",
          "text": [
            "recompiling to avoid crashing R session\n",
            "\n"
          ],
          "name": "stderr"
        },
        {
          "output_type": "stream",
          "text": [
            "\n",
            "SAMPLING FOR MODEL '75976d3a71cf456b890e58343e483969' NOW (CHAIN 1).\n",
            "Chain 1: \n",
            "Chain 1: Gradient evaluation took 1e-05 seconds\n",
            "Chain 1: 1000 transitions using 10 leapfrog steps per transition would take 0.1 seconds.\n",
            "Chain 1: Adjust your expectations accordingly!\n",
            "Chain 1: \n",
            "Chain 1: \n",
            "Chain 1: Iteration:     1 / 21000 [  0%]  (Warmup)\n",
            "Chain 1: Iteration:  1001 / 21000 [  4%]  (Sampling)\n",
            "Chain 1: Iteration:  3100 / 21000 [ 14%]  (Sampling)\n",
            "Chain 1: Iteration:  5200 / 21000 [ 24%]  (Sampling)\n",
            "Chain 1: Iteration:  7300 / 21000 [ 34%]  (Sampling)\n",
            "Chain 1: Iteration:  9400 / 21000 [ 44%]  (Sampling)\n",
            "Chain 1: Iteration: 11500 / 21000 [ 54%]  (Sampling)\n",
            "Chain 1: Iteration: 13600 / 21000 [ 64%]  (Sampling)\n",
            "Chain 1: Iteration: 15700 / 21000 [ 74%]  (Sampling)\n",
            "Chain 1: Iteration: 17800 / 21000 [ 84%]  (Sampling)\n",
            "Chain 1: Iteration: 19900 / 21000 [ 94%]  (Sampling)\n",
            "Chain 1: Iteration: 21000 / 21000 [100%]  (Sampling)\n",
            "Chain 1: \n",
            "Chain 1:  Elapsed Time: 0.007598 seconds (Warm-up)\n",
            "Chain 1:                0.143762 seconds (Sampling)\n",
            "Chain 1:                0.15136 seconds (Total)\n",
            "Chain 1: \n",
            "\n",
            "SAMPLING FOR MODEL '75976d3a71cf456b890e58343e483969' NOW (CHAIN 2).\n",
            "Chain 2: \n",
            "Chain 2: Gradient evaluation took 7e-06 seconds\n",
            "Chain 2: 1000 transitions using 10 leapfrog steps per transition would take 0.07 seconds.\n",
            "Chain 2: Adjust your expectations accordingly!\n",
            "Chain 2: \n",
            "Chain 2: \n",
            "Chain 2: Iteration:     1 / 21000 [  0%]  (Warmup)\n",
            "Chain 2: Iteration:  1001 / 21000 [  4%]  (Sampling)\n",
            "Chain 2: Iteration:  3100 / 21000 [ 14%]  (Sampling)\n",
            "Chain 2: Iteration:  5200 / 21000 [ 24%]  (Sampling)\n",
            "Chain 2: Iteration:  7300 / 21000 [ 34%]  (Sampling)\n",
            "Chain 2: Iteration:  9400 / 21000 [ 44%]  (Sampling)\n",
            "Chain 2: Iteration: 11500 / 21000 [ 54%]  (Sampling)\n",
            "Chain 2: Iteration: 13600 / 21000 [ 64%]  (Sampling)\n",
            "Chain 2: Iteration: 15700 / 21000 [ 74%]  (Sampling)\n",
            "Chain 2: Iteration: 17800 / 21000 [ 84%]  (Sampling)\n",
            "Chain 2: Iteration: 19900 / 21000 [ 94%]  (Sampling)\n",
            "Chain 2: Iteration: 21000 / 21000 [100%]  (Sampling)\n",
            "Chain 2: \n",
            "Chain 2:  Elapsed Time: 0.007407 seconds (Warm-up)\n",
            "Chain 2:                0.139937 seconds (Sampling)\n",
            "Chain 2:                0.147344 seconds (Total)\n",
            "Chain 2: \n",
            "\n",
            "SAMPLING FOR MODEL '75976d3a71cf456b890e58343e483969' NOW (CHAIN 3).\n",
            "Chain 3: \n",
            "Chain 3: Gradient evaluation took 6e-06 seconds\n",
            "Chain 3: 1000 transitions using 10 leapfrog steps per transition would take 0.06 seconds.\n",
            "Chain 3: Adjust your expectations accordingly!\n",
            "Chain 3: \n",
            "Chain 3: \n",
            "Chain 3: Iteration:     1 / 21000 [  0%]  (Warmup)\n",
            "Chain 3: Iteration:  1001 / 21000 [  4%]  (Sampling)\n",
            "Chain 3: Iteration:  3100 / 21000 [ 14%]  (Sampling)\n",
            "Chain 3: Iteration:  5200 / 21000 [ 24%]  (Sampling)\n",
            "Chain 3: Iteration:  7300 / 21000 [ 34%]  (Sampling)\n",
            "Chain 3: Iteration:  9400 / 21000 [ 44%]  (Sampling)\n",
            "Chain 3: Iteration: 11500 / 21000 [ 54%]  (Sampling)\n",
            "Chain 3: Iteration: 13600 / 21000 [ 64%]  (Sampling)\n",
            "Chain 3: Iteration: 15700 / 21000 [ 74%]  (Sampling)\n",
            "Chain 3: Iteration: 17800 / 21000 [ 84%]  (Sampling)\n",
            "Chain 3: Iteration: 19900 / 21000 [ 94%]  (Sampling)\n",
            "Chain 3: Iteration: 21000 / 21000 [100%]  (Sampling)\n",
            "Chain 3: \n",
            "Chain 3:  Elapsed Time: 0.007509 seconds (Warm-up)\n",
            "Chain 3:                0.140618 seconds (Sampling)\n",
            "Chain 3:                0.148127 seconds (Total)\n",
            "Chain 3: \n",
            "\n",
            "SAMPLING FOR MODEL '75976d3a71cf456b890e58343e483969' NOW (CHAIN 4).\n",
            "Chain 4: \n",
            "Chain 4: Gradient evaluation took 6e-06 seconds\n",
            "Chain 4: 1000 transitions using 10 leapfrog steps per transition would take 0.06 seconds.\n",
            "Chain 4: Adjust your expectations accordingly!\n",
            "Chain 4: \n",
            "Chain 4: \n",
            "Chain 4: Iteration:     1 / 21000 [  0%]  (Warmup)\n",
            "Chain 4: Iteration:  1001 / 21000 [  4%]  (Sampling)\n",
            "Chain 4: Iteration:  3100 / 21000 [ 14%]  (Sampling)\n",
            "Chain 4: Iteration:  5200 / 21000 [ 24%]  (Sampling)\n",
            "Chain 4: Iteration:  7300 / 21000 [ 34%]  (Sampling)\n",
            "Chain 4: Iteration:  9400 / 21000 [ 44%]  (Sampling)\n",
            "Chain 4: Iteration: 11500 / 21000 [ 54%]  (Sampling)\n",
            "Chain 4: Iteration: 13600 / 21000 [ 64%]  (Sampling)\n",
            "Chain 4: Iteration: 15700 / 21000 [ 74%]  (Sampling)\n",
            "Chain 4: Iteration: 17800 / 21000 [ 84%]  (Sampling)\n",
            "Chain 4: Iteration: 19900 / 21000 [ 94%]  (Sampling)\n",
            "Chain 4: Iteration: 21000 / 21000 [100%]  (Sampling)\n",
            "Chain 4: \n",
            "Chain 4:  Elapsed Time: 0.007504 seconds (Warm-up)\n",
            "Chain 4:                0.140919 seconds (Sampling)\n",
            "Chain 4:                0.148423 seconds (Total)\n",
            "Chain 4: \n",
            "\n",
            "SAMPLING FOR MODEL '75976d3a71cf456b890e58343e483969' NOW (CHAIN 5).\n",
            "Chain 5: \n",
            "Chain 5: Gradient evaluation took 6e-06 seconds\n",
            "Chain 5: 1000 transitions using 10 leapfrog steps per transition would take 0.06 seconds.\n",
            "Chain 5: Adjust your expectations accordingly!\n",
            "Chain 5: \n",
            "Chain 5: \n",
            "Chain 5: Iteration:     1 / 21000 [  0%]  (Warmup)\n",
            "Chain 5: Iteration:  1001 / 21000 [  4%]  (Sampling)\n",
            "Chain 5: Iteration:  3100 / 21000 [ 14%]  (Sampling)\n",
            "Chain 5: Iteration:  5200 / 21000 [ 24%]  (Sampling)\n",
            "Chain 5: Iteration:  7300 / 21000 [ 34%]  (Sampling)\n",
            "Chain 5: Iteration:  9400 / 21000 [ 44%]  (Sampling)\n",
            "Chain 5: Iteration: 11500 / 21000 [ 54%]  (Sampling)\n",
            "Chain 5: Iteration: 13600 / 21000 [ 64%]  (Sampling)\n",
            "Chain 5: Iteration: 15700 / 21000 [ 74%]  (Sampling)\n",
            "Chain 5: Iteration: 17800 / 21000 [ 84%]  (Sampling)\n",
            "Chain 5: Iteration: 19900 / 21000 [ 94%]  (Sampling)\n",
            "Chain 5: Iteration: 21000 / 21000 [100%]  (Sampling)\n",
            "Chain 5: \n",
            "Chain 5:  Elapsed Time: 0.007723 seconds (Warm-up)\n",
            "Chain 5:                0.172063 seconds (Sampling)\n",
            "Chain 5:                0.179786 seconds (Total)\n",
            "Chain 5: \n",
            "Inference for Stan model: 75976d3a71cf456b890e58343e483969.\n",
            "5 chains, each with iter=21000; warmup=1000; thin=1; \n",
            "post-warmup draws per chain=20000, total post-warmup draws=1e+05.\n",
            "\n",
            "                 mean se_mean    sd     2.5%       5%      95%    97.5% n_eff\n",
            "p               0.550   0.000 0.025    0.500    0.508    0.590    0.598 35750\n",
            "Odds            1.228   0.001 0.124    1.002    1.034    1.441    1.487 35717\n",
            "u_p_gt_05       0.976   0.001 0.153    1.000    1.000    1.000    1.000 58503\n",
            "u_Odds_gt_14    0.087   0.001 0.282    0.000    0.000    1.000    1.000 46803\n",
            "lp__         -277.156   0.003 0.718 -279.188 -278.588 -276.654 -276.652 44377\n",
            "             Rhat\n",
            "p               1\n",
            "Odds            1\n",
            "u_p_gt_05       1\n",
            "u_Odds_gt_14    1\n",
            "lp__            1\n",
            "\n",
            "Samples were drawn using NUTS(diag_e) at Sat Jul 11 02:56:32 2020.\n",
            "For each parameter, n_eff is a crude measure of effective sample size,\n",
            "and Rhat is the potential scale reduction factor on split chains (at \n",
            "convergence, Rhat=1).\n"
          ],
          "name": "stdout"
        }
      ]
    },
    {
      "cell_type": "markdown",
      "metadata": {
        "id": "h9R-WOjku0Qc",
        "colab_type": "text"
      },
      "source": [
        "# 相談相手問題"
      ]
    },
    {
      "cell_type": "code",
      "metadata": {
        "id": "OmLLnGkNuGK_",
        "colab_type": "code",
        "colab": {
          "base_uri": "https://localhost:8080/",
          "height": 1000
        },
        "outputId": "a08e04ef-cf96-4ede-d002-888aaec7533d"
      },
      "source": [
        "x <- c(26,40,8,2,23,8)\n",
        "# multinomial.stan\n",
        "stancode <- '\n",
        "data {\n",
        "  int k;\n",
        "  int x[k];\n",
        "}\n",
        "\n",
        "parameters {\n",
        "  simplex[k] p;\n",
        "}\n",
        "\n",
        "model {\n",
        "  p ~ dirichlet(rep_vector(1,k));\n",
        "  x ~ multinomial(p);\n",
        "}\n",
        "\n",
        "generated quantities {\n",
        "  real u_p1_lt_p2;\n",
        "  real u_p3_lt_p2;\n",
        "  real u_p2_gt_all;\n",
        "\n",
        "  u_p1_lt_p2 = p[1] < p[2]; // 式(6.29)\n",
        "  u_p3_lt_p2 = p[3] < p[2]; // 式(6.29)\n",
        "  u_p2_gt_all = (p[1] < p[2]) *\n",
        "                (p[3] < p[2]) *\n",
        "                (p[4] < p[2]) *\n",
        "                (p[5] < p[2]) *\n",
        "                (p[6] < p[2]); // 式(6.30)\n",
        "}\n",
        "'\n",
        "fit <- stan(model_code = stancode,\n",
        "            data=list(k=length(x),x=x),\n",
        "            iter=21000,warmup=1000,chains=5)\n",
        "print(fit,probs=c(0.025,0.05,0.95,0.975),digits=3)"
      ],
      "execution_count": null,
      "outputs": [
        {
          "output_type": "stream",
          "text": [
            "recompiling to avoid crashing R session\n",
            "\n"
          ],
          "name": "stderr"
        },
        {
          "output_type": "stream",
          "text": [
            "\n",
            "SAMPLING FOR MODEL '85d2d4ac4b83a649b4ad30044087227a' NOW (CHAIN 1).\n",
            "Chain 1: \n",
            "Chain 1: Gradient evaluation took 2e-05 seconds\n",
            "Chain 1: 1000 transitions using 10 leapfrog steps per transition would take 0.2 seconds.\n",
            "Chain 1: Adjust your expectations accordingly!\n",
            "Chain 1: \n",
            "Chain 1: \n",
            "Chain 1: Iteration:     1 / 21000 [  0%]  (Warmup)\n",
            "Chain 1: Iteration:  1001 / 21000 [  4%]  (Sampling)\n",
            "Chain 1: Iteration:  3100 / 21000 [ 14%]  (Sampling)\n",
            "Chain 1: Iteration:  5200 / 21000 [ 24%]  (Sampling)\n",
            "Chain 1: Iteration:  7300 / 21000 [ 34%]  (Sampling)\n",
            "Chain 1: Iteration:  9400 / 21000 [ 44%]  (Sampling)\n",
            "Chain 1: Iteration: 11500 / 21000 [ 54%]  (Sampling)\n",
            "Chain 1: Iteration: 13600 / 21000 [ 64%]  (Sampling)\n",
            "Chain 1: Iteration: 15700 / 21000 [ 74%]  (Sampling)\n",
            "Chain 1: Iteration: 17800 / 21000 [ 84%]  (Sampling)\n",
            "Chain 1: Iteration: 19900 / 21000 [ 94%]  (Sampling)\n",
            "Chain 1: Iteration: 21000 / 21000 [100%]  (Sampling)\n",
            "Chain 1: \n",
            "Chain 1:  Elapsed Time: 0.03105 seconds (Warm-up)\n",
            "Chain 1:                0.656915 seconds (Sampling)\n",
            "Chain 1:                0.687965 seconds (Total)\n",
            "Chain 1: \n",
            "\n",
            "SAMPLING FOR MODEL '85d2d4ac4b83a649b4ad30044087227a' NOW (CHAIN 2).\n",
            "Chain 2: \n",
            "Chain 2: Gradient evaluation took 1.1e-05 seconds\n",
            "Chain 2: 1000 transitions using 10 leapfrog steps per transition would take 0.11 seconds.\n",
            "Chain 2: Adjust your expectations accordingly!\n",
            "Chain 2: \n",
            "Chain 2: \n",
            "Chain 2: Iteration:     1 / 21000 [  0%]  (Warmup)\n",
            "Chain 2: Iteration:  1001 / 21000 [  4%]  (Sampling)\n",
            "Chain 2: Iteration:  3100 / 21000 [ 14%]  (Sampling)\n",
            "Chain 2: Iteration:  5200 / 21000 [ 24%]  (Sampling)\n",
            "Chain 2: Iteration:  7300 / 21000 [ 34%]  (Sampling)\n",
            "Chain 2: Iteration:  9400 / 21000 [ 44%]  (Sampling)\n",
            "Chain 2: Iteration: 11500 / 21000 [ 54%]  (Sampling)\n",
            "Chain 2: Iteration: 13600 / 21000 [ 64%]  (Sampling)\n",
            "Chain 2: Iteration: 15700 / 21000 [ 74%]  (Sampling)\n",
            "Chain 2: Iteration: 17800 / 21000 [ 84%]  (Sampling)\n",
            "Chain 2: Iteration: 19900 / 21000 [ 94%]  (Sampling)\n",
            "Chain 2: Iteration: 21000 / 21000 [100%]  (Sampling)\n",
            "Chain 2: \n",
            "Chain 2:  Elapsed Time: 0.032635 seconds (Warm-up)\n",
            "Chain 2:                0.675448 seconds (Sampling)\n",
            "Chain 2:                0.708083 seconds (Total)\n",
            "Chain 2: \n",
            "\n",
            "SAMPLING FOR MODEL '85d2d4ac4b83a649b4ad30044087227a' NOW (CHAIN 3).\n",
            "Chain 3: \n",
            "Chain 3: Gradient evaluation took 1.1e-05 seconds\n",
            "Chain 3: 1000 transitions using 10 leapfrog steps per transition would take 0.11 seconds.\n",
            "Chain 3: Adjust your expectations accordingly!\n",
            "Chain 3: \n",
            "Chain 3: \n",
            "Chain 3: Iteration:     1 / 21000 [  0%]  (Warmup)\n",
            "Chain 3: Iteration:  1001 / 21000 [  4%]  (Sampling)\n",
            "Chain 3: Iteration:  3100 / 21000 [ 14%]  (Sampling)\n",
            "Chain 3: Iteration:  5200 / 21000 [ 24%]  (Sampling)\n",
            "Chain 3: Iteration:  7300 / 21000 [ 34%]  (Sampling)\n",
            "Chain 3: Iteration:  9400 / 21000 [ 44%]  (Sampling)\n",
            "Chain 3: Iteration: 11500 / 21000 [ 54%]  (Sampling)\n",
            "Chain 3: Iteration: 13600 / 21000 [ 64%]  (Sampling)\n",
            "Chain 3: Iteration: 15700 / 21000 [ 74%]  (Sampling)\n",
            "Chain 3: Iteration: 17800 / 21000 [ 84%]  (Sampling)\n",
            "Chain 3: Iteration: 19900 / 21000 [ 94%]  (Sampling)\n",
            "Chain 3: Iteration: 21000 / 21000 [100%]  (Sampling)\n",
            "Chain 3: \n",
            "Chain 3:  Elapsed Time: 0.031824 seconds (Warm-up)\n",
            "Chain 3:                0.671559 seconds (Sampling)\n",
            "Chain 3:                0.703383 seconds (Total)\n",
            "Chain 3: \n",
            "\n",
            "SAMPLING FOR MODEL '85d2d4ac4b83a649b4ad30044087227a' NOW (CHAIN 4).\n",
            "Chain 4: \n",
            "Chain 4: Gradient evaluation took 1.2e-05 seconds\n",
            "Chain 4: 1000 transitions using 10 leapfrog steps per transition would take 0.12 seconds.\n",
            "Chain 4: Adjust your expectations accordingly!\n",
            "Chain 4: \n",
            "Chain 4: \n",
            "Chain 4: Iteration:     1 / 21000 [  0%]  (Warmup)\n",
            "Chain 4: Iteration:  1001 / 21000 [  4%]  (Sampling)\n",
            "Chain 4: Iteration:  3100 / 21000 [ 14%]  (Sampling)\n",
            "Chain 4: Iteration:  5200 / 21000 [ 24%]  (Sampling)\n",
            "Chain 4: Iteration:  7300 / 21000 [ 34%]  (Sampling)\n",
            "Chain 4: Iteration:  9400 / 21000 [ 44%]  (Sampling)\n",
            "Chain 4: Iteration: 11500 / 21000 [ 54%]  (Sampling)\n",
            "Chain 4: Iteration: 13600 / 21000 [ 64%]  (Sampling)\n",
            "Chain 4: Iteration: 15700 / 21000 [ 74%]  (Sampling)\n",
            "Chain 4: Iteration: 17800 / 21000 [ 84%]  (Sampling)\n",
            "Chain 4: Iteration: 19900 / 21000 [ 94%]  (Sampling)\n",
            "Chain 4: Iteration: 21000 / 21000 [100%]  (Sampling)\n",
            "Chain 4: \n",
            "Chain 4:  Elapsed Time: 0.030916 seconds (Warm-up)\n",
            "Chain 4:                0.669791 seconds (Sampling)\n",
            "Chain 4:                0.700707 seconds (Total)\n",
            "Chain 4: \n",
            "\n",
            "SAMPLING FOR MODEL '85d2d4ac4b83a649b4ad30044087227a' NOW (CHAIN 5).\n",
            "Chain 5: \n",
            "Chain 5: Gradient evaluation took 1.2e-05 seconds\n",
            "Chain 5: 1000 transitions using 10 leapfrog steps per transition would take 0.12 seconds.\n",
            "Chain 5: Adjust your expectations accordingly!\n",
            "Chain 5: \n",
            "Chain 5: \n",
            "Chain 5: Iteration:     1 / 21000 [  0%]  (Warmup)\n",
            "Chain 5: Iteration:  1001 / 21000 [  4%]  (Sampling)\n",
            "Chain 5: Iteration:  3100 / 21000 [ 14%]  (Sampling)\n",
            "Chain 5: Iteration:  5200 / 21000 [ 24%]  (Sampling)\n",
            "Chain 5: Iteration:  7300 / 21000 [ 34%]  (Sampling)\n",
            "Chain 5: Iteration:  9400 / 21000 [ 44%]  (Sampling)\n",
            "Chain 5: Iteration: 11500 / 21000 [ 54%]  (Sampling)\n",
            "Chain 5: Iteration: 13600 / 21000 [ 64%]  (Sampling)\n",
            "Chain 5: Iteration: 15700 / 21000 [ 74%]  (Sampling)\n",
            "Chain 5: Iteration: 17800 / 21000 [ 84%]  (Sampling)\n",
            "Chain 5: Iteration: 19900 / 21000 [ 94%]  (Sampling)\n",
            "Chain 5: Iteration: 21000 / 21000 [100%]  (Sampling)\n",
            "Chain 5: \n",
            "Chain 5:  Elapsed Time: 0.031246 seconds (Warm-up)\n",
            "Chain 5:                0.66398 seconds (Sampling)\n",
            "Chain 5:                0.695226 seconds (Total)\n",
            "Chain 5: \n",
            "Inference for Stan model: 85d2d4ac4b83a649b4ad30044087227a.\n",
            "5 chains, each with iter=21000; warmup=1000; thin=1; \n",
            "post-warmup draws per chain=20000, total post-warmup draws=1e+05.\n",
            "\n",
            "                mean se_mean    sd     2.5%       5%      95%    97.5%  n_eff\n",
            "p[1]           0.239   0.000 0.040    0.165    0.176    0.307    0.321 126997\n",
            "p[2]           0.363   0.000 0.045    0.277    0.290    0.438    0.454 122200\n",
            "p[3]           0.080   0.000 0.025    0.038    0.043    0.125    0.135 129724\n",
            "p[4]           0.027   0.000 0.015    0.005    0.007    0.056    0.064 129695\n",
            "p[5]           0.212   0.000 0.038    0.142    0.152    0.278    0.292 126840\n",
            "p[6]           0.080   0.000 0.025    0.037    0.043    0.125    0.136 126516\n",
            "u_p1_lt_p2     0.956   0.001 0.205    0.000    1.000    1.000    1.000  77809\n",
            "u_p3_lt_p2     1.000     NaN 0.000    1.000    1.000    1.000    1.000    NaN\n",
            "u_p2_gt_all    0.944   0.001 0.230    0.000    0.000    1.000    1.000  77591\n",
            "lp__        -176.397   0.008 1.619 -180.393 -179.497 -174.424 -174.261  46458\n",
            "            Rhat\n",
            "p[1]           1\n",
            "p[2]           1\n",
            "p[3]           1\n",
            "p[4]           1\n",
            "p[5]           1\n",
            "p[6]           1\n",
            "u_p1_lt_p2     1\n",
            "u_p3_lt_p2   NaN\n",
            "u_p2_gt_all    1\n",
            "lp__           1\n",
            "\n",
            "Samples were drawn using NUTS(diag_e) at Sat Jul 11 02:57:21 2020.\n",
            "For each parameter, n_eff is a crude measure of effective sample size,\n",
            "and Rhat is the potential scale reduction factor on split chains (at \n",
            "convergence, Rhat=1).\n"
          ],
          "name": "stdout"
        }
      ]
    }
  ]
}