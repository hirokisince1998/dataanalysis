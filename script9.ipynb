{
  "nbformat": 4,
  "nbformat_minor": 0,
  "metadata": {
    "colab": {
      "name": "script9.ipynb",
      "provenance": []
    },
    "kernelspec": {
      "name": "ir",
      "display_name": "R"
    }
  },
  "cells": [
    {
      "cell_type": "code",
      "metadata": {
        "id": "mnclTyesUZUC",
        "colab_type": "code",
        "colab": {}
      },
      "source": [
        "#rstanがインストールされていないならインストールする\n",
        "x<-installed.packages()\n",
        "if(any(x[,1]== 'rstan') == FALSE){\n",
        "    system(\"add-apt-repository -y ppa:marutter/rrutter3.5\")\n",
        "    system(\"add-apt-repository -y ppa:marutter/c2d4u3.5\") \n",
        "    system(\"apt-get update\")\n",
        "    system(\"apt install -y r-cran-rstan\")\n",
        "}"
      ],
      "execution_count": null,
      "outputs": []
    },
    {
      "cell_type": "code",
      "metadata": {
        "id": "5Q6XUAOkUeNi",
        "colab_type": "code",
        "colab": {}
      },
      "source": [
        "library(rstan)\n",
        "#表3.1のデータ、クラスA、クラスBの順に入力\n",
        "mathA <- c(49,66,69,55,54,72,51,76,40,62,66,51,59,68,66,57,53,66,58,57)\n",
        "mathB <- c(41,55,21,49,53,50,52,67,54,69,57,48,31,52,56,50,46,38,62,59)"
      ],
      "execution_count": null,
      "outputs": []
    },
    {
      "cell_type": "code",
      "metadata": {
        "id": "9qNLrn2Y5XVe",
        "colab_type": "code",
        "colab": {}
      },
      "source": [
        "# ここでstanのコードをstancodeという変数に入れます\n",
        "# 以下は 1group.stan の例\n",
        "stancode <- '\n",
        "data {\n",
        "  int n1; // 第1群のデータ数\n",
        "  int n2; // 第2群のデータ数\n",
        "  real x1[n1]; // 第1群のデータ\n",
        "  real x2[n2]; // 第2群のデータ\n",
        "}\n",
        "\n",
        "parameters {\n",
        "  real mu1; // 第1群の平均μ1\n",
        "  real mu2; // 第2群の平均μ2\n",
        "  real<lower=0> sigma; // 第1群、第2群の標準偏差σ\n",
        "}\n",
        "\n",
        "model {\n",
        "  mu1 ~ uniform(0,100);\n",
        "  mu2 ~ uniform(0,100);\n",
        "  sigma ~ uniform(0,50);\n",
        "\n",
        "  x1 ~ normal(mu1,sigma);\n",
        "  x2 ~ normal(mu2,sigma);\n",
        "}\n",
        "\n",
        "generated quantities {\n",
        "  real mu1_minus_mu2;\n",
        "  real u_mu1_gt_mu2;\n",
        "  real u_mu1_minus_mu2_gt_5;\n",
        "  real delta;\n",
        "  real u_delta_gt_03;\n",
        "  real U3;\n",
        "  real u_U3_gt_06;\n",
        "  real pi_d;\n",
        "  real u_pi_d_gt_08;\n",
        "\n",
        "  mu1_minus_mu2 = mu1 - mu2; // μ1-μ2 式(3.11)\n",
        "  u_mu1_gt_mu2 = mu1 - mu2 > 0; // u_{μ1>μ2} 式(3.12)\n",
        "  u_mu1_minus_mu2_gt_5 = mu1 - mu2 > 5; // u_{μ1-μ2>c} 式(3.13)\n",
        "  delta = (mu1 - mu2) / sigma; // δ 式(3.15)\n",
        "  u_delta_gt_03 = delta > 0.3; // u_{δ>c} 式(3.16)\n",
        "  U3 = normal_cdf(mu1, mu2, sigma); // U3 式(3.17)\n",
        "  u_U3_gt_06 = U3 > 0.6; // u_{U3>c} 式(3.21)\n",
        "  pi_d = normal_cdf(delta / sqrt(2), 0, 1); // πd 式(3.24)\n",
        "  u_pi_d_gt_08 = pi_d > 0.8; // u_{πd>c} 式(3.26)\n",
        "}\n",
        "'"
      ],
      "execution_count": null,
      "outputs": []
    },
    {
      "cell_type": "code",
      "metadata": {
        "id": "Qc4jRP8MYRbN",
        "colab_type": "code",
        "colab": {}
      },
      "source": [
        "fit <- stan(\"2groups-indep.stan\",\n",
        "            data=list(n1=length(mathA),\n",
        "                      n2=length(mathB),\n",
        "                      x1=mathA,\n",
        "                      x2=mathB),\n",
        "            iter=21000,warmup=1000,chains=5)"
      ],
      "execution_count": null,
      "outputs": []
    },
    {
      "cell_type": "code",
      "metadata": {
        "id": "ICWnUOzD68zV",
        "colab_type": "code",
        "colab": {}
      },
      "source": [
        "# パラメータの事後分布（推測結果）\n",
        "print(fit,probs=c(0.025,0.05,0.95,0.975))"
      ],
      "execution_count": null,
      "outputs": []
    },
    {
      "cell_type": "code",
      "metadata": {
        "id": "7p5WrGNL7EIJ",
        "colab_type": "code",
        "colab": {}
      },
      "source": [
        "# 発生させたパラメータのヒストグラム\n",
        "stan_hist(fit,pars=c(\"mu1\",\"mu2\",\"sigma\"))"
      ],
      "execution_count": null,
      "outputs": []
    },
    {
      "cell_type": "code",
      "metadata": {
        "id": "bZiwNNmmjuTK",
        "colab_type": "code",
        "colab": {}
      },
      "source": [
        "# パラメータの事後分布（小数以下3桁表示）\n",
        "print(fit,probs=c(0.025,0.05,0.95,0.975),digits=3)"
      ],
      "execution_count": null,
      "outputs": []
    }
  ]
}